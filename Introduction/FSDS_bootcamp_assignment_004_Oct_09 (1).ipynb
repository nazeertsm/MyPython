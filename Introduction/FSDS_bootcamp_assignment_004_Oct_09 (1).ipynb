{
  "cells": [
    {
      "cell_type": "markdown",
      "metadata": {
        "id": "dkGbTD94s6CD"
      },
      "source": [
        "# ASSIGNMENTS \n",
        "## Send it before 0000 hrs IST or 12 AM Wednesday\n",
        "\n",
        "## NOTE: Evaluation will be done before next class.\n",
        "\n",
        "## HOW TO SUBMIT: -\n",
        "Download this notebook, Solve it and upload in the google form given in the mail."
      ]
    },
    {
      "cell_type": "markdown",
      "metadata": {
        "id": "n3FuI-mutNl6"
      },
      "source": [
        "## control flow and conditional statements"
      ]
    },
    {
      "cell_type": "markdown",
      "metadata": {
        "id": "NCW2epdyuJ-a"
      },
      "source": [
        "Q1. Find the largest number from the given list, use for loop.\n",
        "\n",
        "```\n",
        "numbers = [12, 75, 150, 180, 145, 525, 50]\n",
        "```"
      ]
    },
    {
      "cell_type": "code",
      "execution_count": 1,
      "metadata": {},
      "outputs": [
        {
          "name": "stdout",
          "output_type": "stream",
          "text": [
            "Hello world\n"
          ]
        }
      ],
      "source": [
        "import numbers\n",
        "\n",
        "\n",
        "print(\"Hello world\")"
      ]
    },
    {
      "cell_type": "markdown",
      "metadata": {
        "id": "Qsg0i1fTwEQj"
      },
      "source": [
        "Q2. Print all the even number between (1, 12)."
      ]
    },
    {
      "cell_type": "markdown",
      "metadata": {
        "id": "WG2QcDDhwi4a"
      },
      "source": [
        "Q3. Calculate the sum of all numbers from 1 to a given number\n",
        "    \n",
        "    Expected Output:\n",
        "\n",
        "    Enter number 10\n",
        "    \n",
        "    Sum is:  55\n"
      ]
    },
    {
      "cell_type": "markdown",
      "metadata": {
        "id": "mc7lLUm5f4Cq"
      },
      "source": [
        "Q4. Write a program to display only those numbers from a list that satisfy the following conditions\n",
        "\n",
        "- The number must be divisible by five\n",
        "\n",
        "- If the number is greater than 150, then skip it and move to the next number\n",
        "\n",
        "- If the number is greater than 500, then stop the loop"
      ]
    },
    {
      "cell_type": "code",
      "execution_count": null,
      "metadata": {
        "id": "P3Ct2ocKf6Hy"
      },
      "outputs": [],
      "source": [
        "# Given:\n",
        "\n",
        "numbers = [12, 75, 150, 180, 145, 525, 50]"
      ]
    },
    {
      "cell_type": "markdown",
      "metadata": {
        "id": "rrxWvy7nMnAs"
      },
      "source": [
        "Q5. Print the given list in reverse order.\n",
        "\n",
        "```\n",
        "list1 = [10, 20, 30, 40, 50]\n",
        "```"
      ]
    },
    {
      "cell_type": "code",
      "execution_count": null,
      "metadata": {
        "id": "z-GDgPn3Nr0y"
      },
      "outputs": [],
      "source": []
    }
  ],
  "metadata": {
    "colab": {
      "collapsed_sections": [],
      "provenance": []
    },
    "kernelspec": {
      "display_name": "Python 3.10.5 64-bit",
      "language": "python",
      "name": "python3"
    },
    "language_info": {
      "codemirror_mode": {
        "name": "ipython",
        "version": 3
      },
      "file_extension": ".py",
      "mimetype": "text/x-python",
      "name": "python",
      "nbconvert_exporter": "python",
      "pygments_lexer": "ipython3",
      "version": "3.10.5"
    },
    "vscode": {
      "interpreter": {
        "hash": "369f2c481f4da34e4445cda3fffd2e751bd1c4d706f27375911949ba6bb62e1c"
      }
    }
  },
  "nbformat": 4,
  "nbformat_minor": 0
}
